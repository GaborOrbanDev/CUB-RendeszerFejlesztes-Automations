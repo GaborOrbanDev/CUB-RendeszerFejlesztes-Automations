{
 "cells": [
  {
   "cell_type": "code",
   "execution_count": 1,
   "metadata": {},
   "outputs": [],
   "source": [
    "from selenium import webdriver\n",
    "from selenium.webdriver.common.by import By\n",
    "from selenium.webdriver.support.wait import WebDriverWait\n",
    "from webdriver_manager.chrome import ChromeDriverManager\n",
    "from selenium.webdriver.chrome.service import Service as ChromeService\n",
    "import concurrent.futures as cf\n",
    "import re\n",
    "import time\n",
    "import random\n",
    "import creds"
   ]
  },
  {
   "attachments": {},
   "cell_type": "markdown",
   "metadata": {},
   "source": [
    "Creds"
   ]
  },
  {
   "cell_type": "code",
   "execution_count": 3,
   "metadata": {},
   "outputs": [],
   "source": [
    "USER = creds.USER\n",
    "PWD = creds.PWD\n",
    "URL = \"http://20.234.113.211:8100/\""
   ]
  },
  {
   "attachments": {},
   "cell_type": "markdown",
   "metadata": {},
   "source": [
    "Login"
   ]
  },
  {
   "cell_type": "code",
   "execution_count": 56,
   "metadata": {},
   "outputs": [],
   "source": [
    "driver = webdriver.Chrome(service=ChromeService(ChromeDriverManager().install()))\n",
    "driver.get(URL)\n",
    "driver.find_element(By.ID, \"dnn_dnnLogin_enhancedLoginLink\").click()\n",
    "driver.switch_to.frame(\"iPopUp\")\n",
    "user = WebDriverWait(driver, 10).until(lambda d: d.find_element(By.ID, \"dnn_ctr_Login_Login_DNN_txtUsername\"))\n",
    "user.send_keys(USER)\n",
    "pwd = WebDriverWait(driver, 10).until(lambda d: d.find_element(By.ID, \"dnn_ctr_Login_Login_DNN_txtPassword\"))\n",
    "pwd.send_keys(PWD)\n",
    "WebDriverWait(driver, 10).until(lambda d: d.find_element(By.ID, \"dnn_ctr_Login_Login_DNN_cmdLogin\")).click()\n",
    "driver.get(\"http://20.234.113.211:8100/DesktopModules/Hotcakes/Core/Admin/catalog/default.aspx\")"
   ]
  },
  {
   "attachments": {},
   "cell_type": "markdown",
   "metadata": {},
   "source": [
    "Delete all"
   ]
  },
  {
   "cell_type": "code",
   "execution_count": 54,
   "metadata": {},
   "outputs": [],
   "source": [
    "def delete_all():\n",
    "    while True:\n",
    "        try:\n",
    "            delete_icon = WebDriverWait(driver, 10).until(lambda d: d.find_element(By.CLASS_NAME, \"hcIconDelete\"))\n",
    "            delete_icon.click()\n",
    "            delete_div = WebDriverWait(driver, 10).until(lambda d: d.find_element(By.CSS_SELECTOR, \"ul.hcActions\"))\n",
    "            delete_btn = delete_div.find_element(By.CSS_SELECTOR, \"li:first-of-type\")\n",
    "            driver.execute_script('document.querySelector(\"ul.hcActions li:first-of-type a\").click()')\n",
    "        except Exception as ex:\n",
    "            break"
   ]
  },
  {
   "cell_type": "code",
   "execution_count": null,
   "metadata": {},
   "outputs": [],
   "source": [
    "question = input(\"Szeretnéd az összes terméket törölni? [y/n]\")\n",
    "\n",
    "if question == \"y\":\n",
    "    delete_all()\n",
    "else:\n",
    "    pass"
   ]
  },
  {
   "attachments": {},
   "cell_type": "markdown",
   "metadata": {},
   "source": [
    "Commit all"
   ]
  },
  {
   "cell_type": "code",
   "execution_count": null,
   "metadata": {},
   "outputs": [],
   "source": [
    "page_url = driver.current_url\n",
    "\n",
    "termekek = driver.find_elements(By.CSS_SELECTOR, \"a.hcIconEdit\")\n",
    "for i in range(len(termekek)):\n",
    "    try:\n",
    "        prod_url = driver.current_url\n",
    "        termekek[i].click()\n",
    "        save = WebDriverWait(driver, 10).until(lambda d: d.find_element(By.ID, \"MainContent_btnSave\"))\n",
    "        save.click()\n",
    "        print(f\"{i+1}. termék mentve\")\n",
    "    except:\n",
    "        input()\n",
    "    if driver.current_url == prod_url:\n",
    "        print(prod_url)\n",
    "        input()\n",
    "    if driver.current_url != page_url:\n",
    "        driver.get(page_url)\n",
    "    termekek = driver.find_elements(By.CSS_SELECTOR, \"a.hcIconEdit\")"
   ]
  },
  {
   "attachments": {},
   "cell_type": "markdown",
   "metadata": {},
   "source": [
    "Méret menű hozzáadása"
   ]
  },
  {
   "cell_type": "code",
   "execution_count": 42,
   "metadata": {},
   "outputs": [
    {
     "data": {
      "text/plain": [
       "False"
      ]
     },
     "execution_count": 42,
     "metadata": {},
     "output_type": "execute_result"
    }
   ],
   "source": [
    "def check_table_for_size():\n",
    "    \"\"\"csekkolja, hogy az adott terméknek van-e már méret tulajdonsága\"\"\"\n",
    "    van_tablazat = False\n",
    "    try:\n",
    "        driver.find_element(By.CLASS_NAME, \"hcGrid\")\n",
    "        van_tablazat = True\n",
    "    except:\n",
    "        pass\n",
    "\n",
    "    van_méret = False\n",
    "\n",
    "    if van_tablazat:\n",
    "        trs = driver.find_elements(By.CSS_SELECTOR, \"table.formtable.hcGrid\")\n",
    "        for tr in trs:\n",
    "            kategória_név = tr.find_element(By.CSS_SELECTOR, \"td:nth-of-type(2) a\").text\n",
    "            if kategória_név == \"Méret\":\n",
    "                van_méret = True\n",
    "                break\n",
    "\n",
    "    if van_méret:\n",
    "        return True\n",
    "    else:\n",
    "        return False\n",
    "    \n",
    "check_table_for_size()"
   ]
  },
  {
   "cell_type": "code",
   "execution_count": 43,
   "metadata": {},
   "outputs": [],
   "source": [
    "page_url = driver.current_url\n",
    "termekek = driver.find_elements(By.CSS_SELECTOR, \"a.hcIconEdit\")\n",
    "\n",
    "\n",
    "for i in range(len(termekek)):\n",
    "    termekek[i].click()\n",
    "    driver.find_element(By.ID, \"NavContent_ProductNavigator_hypCustomerChoices\").click()\n",
    "\n",
    "    if check_table_for_size():\n",
    "        driver.find_element(\"id\", \"NavContent_ProductNavigator_hypClose\").click()\n",
    "        if driver.current_url != page_url:\n",
    "            driver.get(page_url)\n",
    "        termekek = driver.find_elements(By.CSS_SELECTOR, \"a.hcIconEdit\")\n",
    "        continue\n",
    "\n",
    "    driver.find_element(By.ID, \"NavContent_NewChoiceButton\").click()\n",
    "    name_input = driver.find_element(By.ID, \"MainContent_NameField\")\n",
    "    name_input.clear()\n",
    "    name_input.send_keys(\"Méret\")\n",
    "\n",
    "    sizes = [30, 32, 34, 36, 38, 40] #[\"XS\", \"S\", \"M\", \"L\", \"XL\"]\n",
    "\n",
    "    for i in range(len(sizes)):\n",
    "        # choice_input = WebDriverWait(driver, 10).until(lambda d: d.find_element(By.ID, \"MainContent_ItemsEditor_txtNewName\"))\n",
    "        # choice_input.send_keys(sizes[i])\n",
    "        driver.execute_script(f'document.querySelector(\"#MainContent_ItemsEditor_txtNewName\").value = \"{sizes[i]}\"')\n",
    "        # btn = WebDriverWait(driver, 10).until(lambda d: d.find_element(\"id\", \"MainContent_ItemsEditor_btnNew\"))\n",
    "        # btn.click()\n",
    "        driver.execute_script('document.querySelector(\"#MainContent_ItemsEditor_btnNew\").click()')\n",
    "        time.sleep(0.3)\n",
    "\n",
    "    driver.find_element(\"id\", \"MainContent_btnSaveAndClose\").click()\n",
    "    driver.find_element(\"id\", \"NavContent_ProductNavigator_hypClose\").click()\n",
    "\n",
    "    if driver.current_url != page_url:\n",
    "        driver.get(page_url)\n",
    "    termekek = driver.find_elements(By.CSS_SELECTOR, \"a.hcIconEdit\")"
   ]
  },
  {
   "cell_type": "code",
   "execution_count": 38,
   "metadata": {},
   "outputs": [],
   "source": [
    "férfi_méret = [28, 29, 30, 31, 32, 33, 34, 36, 38, 40, 42]\n",
    "női_méret = [30, 32, 34, 36, 38, 40]"
   ]
  },
  {
   "attachments": {},
   "cell_type": "markdown",
   "metadata": {},
   "source": [
    "Kapcsolódó termékek hozzáadása"
   ]
  },
  {
   "cell_type": "code",
   "execution_count": 67,
   "metadata": {},
   "outputs": [],
   "source": [
    "page_url = driver.current_url\n",
    "termekek = driver.find_elements(By.CSS_SELECTOR, \"a.hcIconEdit\")\n",
    "\n",
    "for i in range(len(termekek)):\n",
    "    termekek[i].click()\n",
    "\n",
    "    #region: sku meghatározása\n",
    "    sku_raw = driver.find_element(By.ID, \"MainContent_SkuField\").get_attribute(\"value\")\n",
    "    sku = re.search(r\"^.*?_[0-9]\", sku_raw).group()[:-2]\n",
    "    #endregion\n",
    "\n",
    "    driver.find_element(By.ID, \"NavContent_ProductNavigator_hypUpSellCrossSell\").click() #related menüpontra kattintás\n",
    "\n",
    "    #region: szűrés sku-ra\n",
    "    driver.find_element(By.ID, \"MainContent_ucProductPicker_FilterField\").clear()\n",
    "    driver.find_element(By.ID, \"MainContent_ucProductPicker_FilterField\").send_keys(sku) #filter szöveg beírása\n",
    "    driver.find_element(By.ID, \"MainContent_ucProductPicker_btnGo\").click() #keresésre rákattintás\n",
    "    dropdown = driver.find_element(By.ID, \"MainContent_ucProductPicker_DropDownList1\") #item per page menű kijelölése\n",
    "    dropdown.find_element(By.CSS_SELECTOR, \"option:last-of-type\").click() #legnagyobb megjelenítési lehetőség kijelölése\n",
    "    #endregion\n",
    "\n",
    "    clothes = driver.find_elements(By.CSS_SELECTOR, \"#MainContent_ucProductPicker_GridView1 tr\") #ruhák összegyűjtése\n",
    "    n = len(clothes)\n",
    "    selected_rows = random.sample(range(1, n), 5) #ruhák kiválasztása\n",
    "\n",
    "    #region: ruhák kijelölése\n",
    "    iteration = 0\n",
    "    added_item = 0\n",
    "\n",
    "    while added_item <4:\n",
    "        selected_sku = clothes[selected_rows[iteration]].find_element(By.CSS_SELECTOR, \"td:nth-of-type(2)\").text\n",
    "        if selected_sku == sku_raw:\n",
    "            iteration += 1\n",
    "            continue\n",
    "        clothes[selected_rows[iteration]].find_element(By.CSS_SELECTOR, \"td:nth-of-type(1) input\").click()\n",
    "        added_item += 1\n",
    "        iteration += 1\n",
    "    #endregion\n",
    "\n",
    "    driver.find_element(By.ID, \"MainContent_btnAdd\").click() #ruhák hozzáadása\n",
    "    driver.find_element(By.ID, \"NavContent_ucProductNavigator_hypClose\").click()\n",
    "\n",
    "    if driver.current_url != page_url:\n",
    "        driver.get(page_url)\n",
    "    termekek = driver.find_elements(By.CSS_SELECTOR, \"a.hcIconEdit\")"
   ]
  }
 ],
 "metadata": {
  "kernelspec": {
   "display_name": "webscraping",
   "language": "python",
   "name": "python3"
  },
  "language_info": {
   "codemirror_mode": {
    "name": "ipython",
    "version": 3
   },
   "file_extension": ".py",
   "mimetype": "text/x-python",
   "name": "python",
   "nbconvert_exporter": "python",
   "pygments_lexer": "ipython3",
   "version": "3.11.0"
  },
  "orig_nbformat": 4
 },
 "nbformat": 4,
 "nbformat_minor": 2
}
